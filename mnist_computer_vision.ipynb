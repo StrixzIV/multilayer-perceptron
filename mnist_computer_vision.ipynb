{
 "cells": [
  {
   "cell_type": "code",
   "execution_count": null,
   "id": "82cc6f1f-5dcf-4c85-afbe-7fe4347c00bb",
   "metadata": {},
   "outputs": [],
   "source": [
    "import pandas as pd\n",
    "import matplotlib.pyplot as plt\n",
    "import numpy as np\n",
    "\n",
    "from sklearn.datasets import load_digits\n",
    "from sklearn.preprocessing import OneHotEncoder\n",
    "from sklearn.model_selection import train_test_split\n",
    "\n",
    "from utils.nn.optimizer import Adam\n",
    "from utils.nn.neuron import Activation\n",
    "from utils.nn.layer import Dense, Dropout\n",
    "from utils.nn.sequential import Sequential\n",
    "from utils.nn.losses import categorical_crossentropy_loss\n",
    "from utils.nn.initializer import Initializer, InitializationType"
   ]
  },
  {
   "cell_type": "code",
   "execution_count": null,
   "id": "f3bfeb73",
   "metadata": {},
   "outputs": [],
   "source": [
    "mnist_dataset = load_digits()\n",
    "pd.DataFrame({'features': list(mnist_dataset.data), 'label': mnist_dataset.target})"
   ]
  },
  {
   "cell_type": "code",
   "execution_count": null,
   "id": "81855e9f",
   "metadata": {},
   "outputs": [],
   "source": [
    "fig, axes = plt.subplots(1, 5, figsize=(12, 3))\n",
    "\n",
    "for i, (image, image_target) in enumerate(zip(mnist_dataset.data[:5], mnist_dataset.target[:5])):\n",
    "    image_2d = image.reshape(8, 8)\n",
    "    axes[i].imshow(image_2d, cmap='gray')\n",
    "    axes[i].set_title(f\"Digit: {image_target}\")\n",
    "    axes[i].axis('off')\n",
    "\n",
    "plt.tight_layout()\n",
    "plt.show()"
   ]
  },
  {
   "cell_type": "code",
   "execution_count": null,
   "id": "a1a5acc1",
   "metadata": {},
   "outputs": [],
   "source": [
    "x = mnist_dataset.data\n",
    "y = mnist_dataset.target.reshape(-1, 1)\n",
    "\n",
    "onehot_encoder = OneHotEncoder()\n",
    "y_onehot = onehot_encoder.fit_transform(y).toarray()\n",
    "\n",
    "X_train, X_test, y_train, y_test = train_test_split(x, y_onehot, test_size=0.2)\n",
    "\n",
    "print(f\"X_train: {X_train.shape} y_train: {y_train.shape}\")\n",
    "print(f\"X_test: {X_test.shape} y_test: {y_test.shape}\")"
   ]
  },
  {
   "cell_type": "code",
   "execution_count": null,
   "id": "adef7235",
   "metadata": {},
   "outputs": [],
   "source": [
    "model = Sequential(\n",
    "    layers=[\n",
    "        \n",
    "        Dense(\n",
    "            shape=(64, 128),\n",
    "            activation=Activation.RELU,\n",
    "            initializer=Initializer(fill_type=InitializationType.HE_NORMAL, fan_in=64, fan_out=128)\n",
    "        ),\n",
    "\n",
    "        Dropout(rate=0.3, input_size=128),\n",
    "        \n",
    "        Dense(\n",
    "            shape=(128, 64),\n",
    "            activation=Activation.RELU,\n",
    "            initializer=Initializer(fill_type=InitializationType.HE_NORMAL, fan_in=128, fan_out=64)\n",
    "        ),\n",
    "\n",
    "        Dropout(rate=0.4, input_size=64),\n",
    "        \n",
    "        Dense(\n",
    "            shape=(64, 32),\n",
    "            activation=Activation.RELU,\n",
    "            initializer=Initializer(fill_type=InitializationType.HE_NORMAL, fan_in=64, fan_out=32)\n",
    "        ),\n",
    "        \n",
    "        Dropout(rate=0.5, input_size=32),\n",
    "\n",
    "        Dense(\n",
    "            shape=(32, 10),\n",
    "            activation=Activation.SOFTMAX,\n",
    "            initializer=Initializer(fill_type=InitializationType.GLOROT_NORMAL, fan_in=32, fan_out=10)\n",
    "        )\n",
    "    \n",
    "    ]\n",
    ")\n",
    "\n",
    "model.summary()"
   ]
  },
  {
   "cell_type": "code",
   "execution_count": null,
   "id": "39b52429",
   "metadata": {},
   "outputs": [],
   "source": [
    "optimizer = Adam(params=model.parameters(), learning_rate=1e-3)\n",
    "\n",
    "model.fit(\n",
    "    x_train=X_train,\n",
    "    y_train=y_train,\n",
    "    optimizer=optimizer,\n",
    "    loss_func=categorical_crossentropy_loss,\n",
    "    epochs=100,\n",
    "    batch_size=32,\n",
    "    metric=\"accuracy\",\n",
    "    x_validate=X_test,\n",
    "    y_validate=y_test,\n",
    "    display_interval=10\n",
    ")"
   ]
  },
  {
   "cell_type": "code",
   "execution_count": null,
   "id": "3b4db758",
   "metadata": {},
   "outputs": [],
   "source": [
    "y_test_predictions = model.forward_batch(X_test)\n",
    "y_test_prediction_labels = [np.argmax(pred) for pred in y_test_predictions]\n",
    "y_test_true_labels = [np.argmax(yt) for yt in y_test]"
   ]
  },
  {
   "cell_type": "code",
   "execution_count": null,
   "id": "00488766",
   "metadata": {},
   "outputs": [],
   "source": [
    "def visualize_prediction(x_test, y_true, y_pred, num_samples=10, grid_cols=5):\n",
    "\n",
    "    \"\"\"\n",
    "    Visualize MNIST test samples with true and predicted labels\n",
    "    \n",
    "    Parameters:\n",
    "    - x_test: Test images (numpy array)\n",
    "    - y_true: True labels\n",
    "    - y_pred: Predicted labels\n",
    "    - num_samples: Number of samples to display (default: 10)\n",
    "    - grid_cols: Number of columns in the grid (default: 5)\n",
    "    \"\"\"\n",
    "    \n",
    "    # Calculate grid dimensions\n",
    "    grid_rows = (num_samples + grid_cols - 1) // grid_cols\n",
    "    \n",
    "    # Create subplots\n",
    "    fig, axes = plt.subplots(grid_rows, grid_cols, figsize=(15, 3 * grid_rows))\n",
    "    \n",
    "    # Handle case where we have only one row\n",
    "    if grid_rows == 1:\n",
    "        axes = axes.reshape(1, -1)\n",
    "    \n",
    "    # Flatten axes for easier indexing if we have multiple rows\n",
    "    axes_flat = axes.flatten()\n",
    "    \n",
    "    for i in range(num_samples):\n",
    "        # Reshape image to 2D (assuming 8x8 for sklearn digits, adjust if needed)\n",
    "        if len(x_test[i].shape) == 1:\n",
    "            # If flattened, reshape to square (common sizes: 8x8=64, 28x28=784)\n",
    "            img_size = int(np.sqrt(x_test[i].shape[0]))\n",
    "            image_2d = x_test[i].reshape(img_size, img_size)\n",
    "        else:\n",
    "            image_2d = x_test[i]\n",
    "        \n",
    "        # Display image\n",
    "        axes_flat[i].imshow(image_2d, cmap='gray')\n",
    "        \n",
    "        # Set title with true and predicted labels\n",
    "        # Color code: green if correct, red if incorrect\n",
    "        color = 'green' if y_true[i] == y_pred[i] else 'red'\n",
    "        axes_flat[i].set_title(f'True: {y_true[i]}, Pred: {y_pred[i]}', \n",
    "                              color=color, fontsize=10, fontweight='bold')\n",
    "        axes_flat[i].axis('off')\n",
    "    \n",
    "    # Hide any unused subplots\n",
    "    for i in range(num_samples, len(axes_flat)):\n",
    "        axes_flat[i].axis('off')\n",
    "    \n",
    "    plt.tight_layout()\n",
    "    plt.show()"
   ]
  },
  {
   "cell_type": "code",
   "execution_count": null,
   "id": "98d1e206",
   "metadata": {},
   "outputs": [],
   "source": [
    "visualize_prediction(X_test, y_true=y_test_true_labels, y_pred=y_test_prediction_labels)"
   ]
  }
 ],
 "metadata": {
  "kernelspec": {
   "display_name": "evaluation-env",
   "language": "python",
   "name": "python3"
  },
  "language_info": {
   "codemirror_mode": {
    "name": "ipython",
    "version": 3
   },
   "file_extension": ".py",
   "mimetype": "text/x-python",
   "name": "python",
   "nbconvert_exporter": "python",
   "pygments_lexer": "ipython3",
   "version": "3.10.12"
  }
 },
 "nbformat": 4,
 "nbformat_minor": 5
}
